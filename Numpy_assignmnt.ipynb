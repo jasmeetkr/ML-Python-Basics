{
 "cells": [
  {
   "cell_type": "code",
   "execution_count": 1,
   "metadata": {},
   "outputs": [],
   "source": [
    "import numpy as np"
   ]
  },
  {
   "cell_type": "markdown",
   "metadata": {},
   "source": [
    "Write a function so that the columns of the output matrix are powers of the input vector. The order of the powers is determined by the increasing boolean argument. Specifically, when increasing is False, the i-th output column is the input vector raised element-wise to the power of N - i - 1.\n",
    "\n",
    "HINT: Such a matrix with a geometric progression in each row is named for Alexandre- Theophile Vandermonde."
   ]
  },
  {
   "cell_type": "code",
   "execution_count": 3,
   "metadata": {},
   "outputs": [
    {
     "name": "stdout",
     "output_type": "stream",
     "text": [
      "-----OUTPUT-----\n",
      "The input array is: [1 2 3 4 5] \n",
      "\n",
      "Number of columns in output matrix should be: 5 \n",
      "\n",
      "Alexandre-Theophile Vandermonde matrix of the input array in decreasing order of powers:\n",
      "\n",
      " [[  1   1   1   1   1]\n",
      " [ 16   8   4   2   1]\n",
      " [ 81  27   9   3   1]\n",
      " [256  64  16   4   1]\n",
      " [625 125  25   5   1]] \n",
      "\n",
      "Alexandre-Theophile Vandermonde matrix of the input array in increasing order of powers:\n",
      "\n",
      " [[  1   1   1   1   1]\n",
      " [  1   2   4   8  16]\n",
      " [  1   3   9  27  81]\n",
      " [  1   4  16  64 256]\n",
      " [  1   5  25 125 625]] \n",
      "\n"
     ]
    }
   ],
   "source": [
    "def alex_theo_matrix(inp_vec,n, increasing=False):\n",
    "    if not increasing:\n",
    "        op_mat = np.array([x**(n-1-a) for x in inp_vec for a in range(n)]).reshape(inp_vec.size,n)\n",
    "    elif increasing:\n",
    "        op_mat = np.array([x**a for x in inp_vec for a in range(n)]).reshape(inp_vec.size,n)\n",
    "        \n",
    "    return op_mat\n",
    "\n",
    "print('-----OUTPUT-----')\n",
    "inp_vec = np.array([1,2,3,4,5])\n",
    "nocol_opmat = 5\n",
    "dec_order_mat = alex_theo_matrix(inp_vec,nocol_opmat,False)\n",
    "inc_order_mat = alex_theo_matrix(inp_vec,nocol_opmat,True)\n",
    "\n",
    "print(\"The input array is:\",inp_vec,\"\\n\")\n",
    "print(\"Number of columns in output matrix should be:\",nocol_opmat,\"\\n\")\n",
    "print(\"Alexandre-Theophile Vandermonde matrix of the input array in decreasing order of powers:\\n\\n\",dec_order_mat,\"\\n\")\n",
    "print(\"Alexandre-Theophile Vandermonde matrix of the input array in increasing order of powers:\\n\\n\",inc_order_mat,\"\\n\")"
   ]
  },
  {
   "cell_type": "markdown",
   "metadata": {},
   "source": [
    "Problem Statement 2\n",
    "\n",
    "Write a function to find moving average in an array over a window: Test it over [3, 5, 7, 2, 8, 10, 11, 65, 72, 81, 99, 100, 150] and window of 3."
   ]
  },
  {
   "cell_type": "code",
   "execution_count": 6,
   "metadata": {},
   "outputs": [
    {
     "name": "stdout",
     "output_type": "stream",
     "text": [
      "The input sequence is = [  3   5   7   2   8  10  11  65  72  81  99 100 150] \n",
      "\n",
      "The moving average of the sequence with the rolling window size 3 is =\n",
      " [  5.           4.66666667   5.66666667   6.66666667   9.66666667\n",
      "  28.66666667  49.33333333  72.66666667  84.          93.33333333\n",
      " 116.33333333] \n",
      "\n",
      "The moving average sequence should have 11 values.\n",
      "\n",
      "The moving average sequence has 11 values.\n"
     ]
    }
   ],
   "source": [
    "import numpy as np\n",
    "\n",
    "def moving_avg(inp_arr, k=3) :\n",
    "    input_arrshape = inp_arr.shape[0]\n",
    "    \n",
    "    #Create a vector of zeroes with the shape as n-k+1\n",
    "    \n",
    "    outarr_movingavg = np.zeros(input_arrshape - k + 1)\n",
    "    \n",
    "    # Iterate over the input array. While doing so, for every element, get the next k elements through slicing, \n",
    "    # computer their mean and add to the output array.\n",
    "    \n",
    "    for i in range(k, input_arrshape + 1):\n",
    "        outarr_movingavg[i-k] = inp_arr[i-k:i].mean()\n",
    "    \n",
    "    return outarr_movingavg    \n",
    "\n",
    "\n",
    "arr = np.array([3, 5, 7, 2, 8, 10, 11, 65, 72, 81, 99, 100, 150])\n",
    "win_size = 3\n",
    "moving_average_arr = moving_avg(arr, win_size)\n",
    "\n",
    "print(\"The input sequence is =\", arr, \"\\n\")\n",
    "print(\"The moving average of the sequence with the rolling window size\", win_size, \"is =\\n\", moving_average_arr, \"\\n\")\n",
    "print(\"The moving average sequence should have\", arr.shape[0] - win_size + 1, \"values.\\n\")\n",
    "print(\"The moving average sequence has\", moving_average_arr.shape[0], \"values.\")"
   ]
  },
  {
   "cell_type": "code",
   "execution_count": null,
   "metadata": {},
   "outputs": [],
   "source": []
  }
 ],
 "metadata": {
  "kernelspec": {
   "display_name": "Python 3",
   "language": "python",
   "name": "python3"
  },
  "language_info": {
   "codemirror_mode": {
    "name": "ipython",
    "version": 3
   },
   "file_extension": ".py",
   "mimetype": "text/x-python",
   "name": "python",
   "nbconvert_exporter": "python",
   "pygments_lexer": "ipython3",
   "version": "3.7.6"
  }
 },
 "nbformat": 4,
 "nbformat_minor": 4
}
