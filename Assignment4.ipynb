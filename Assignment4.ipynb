{
 "cells": [
  {
   "cell_type": "markdown",
   "metadata": {},
   "source": [
    "Assignment 4: Q1"
   ]
  },
  {
   "cell_type": "code",
   "execution_count": 2,
   "metadata": {},
   "outputs": [
    {
     "name": "stdout",
     "output_type": "stream",
     "text": [
      "5.332682251925386\n"
     ]
    }
   ],
   "source": [
    "class Parent:\n",
    "    def __init__(self, n):\n",
    "        self.no_of_sides = n\n",
    "        \n",
    "class AreaTriangle(Parent):\n",
    "    def __init__(self, len_sides):\n",
    "        Parent.__init__(self,3)\n",
    "        self.len_sides = len_sides\n",
    "        \n",
    "    def get_area(self):\n",
    "        x,y,z = self.len_sides\n",
    "        \n",
    "        s = (x+y+z)/2\n",
    "        return (s*(s-x)*(s-y)*(s-z)) ** 0.5\n",
    "    \n",
    "#Driver's Code\n",
    "obj = AreaTriangle([3,6,4])\n",
    "print(obj.get_area())"
   ]
  },
  {
   "cell_type": "markdown",
   "metadata": {},
   "source": [
    "Assignment 4: Q2"
   ]
  },
  {
   "cell_type": "code",
   "execution_count": 3,
   "metadata": {},
   "outputs": [
    {
     "name": "stdout",
     "output_type": "stream",
     "text": [
      "['agreed', 'magnificent', 'evening.']\n"
     ]
    }
   ],
   "source": [
    "def filter_long_words(n, str):\n",
    "    word_len = []\n",
    "    txt = str.split(\" \")\n",
    "    for x in txt:\n",
    "        if len(x) > n:\n",
    "            word_len.append(x)\n",
    "    return word_len\n",
    "print(filter_long_words(3, \"We all agreed it was a magnificent evening.\"))"
   ]
  },
  {
   "cell_type": "markdown",
   "metadata": {},
   "source": [
    "Assignment 4: Q3"
   ]
  },
  {
   "cell_type": "code",
   "execution_count": 7,
   "metadata": {},
   "outputs": [
    {
     "name": "stdout",
     "output_type": "stream",
     "text": [
      "[3, 12, 0]\n"
     ]
    }
   ],
   "source": [
    "def map_len(words):\n",
    "    lst = []\n",
    "    for word in words:\n",
    "        lst.append(len(word))\n",
    "    return lst\n",
    "\n",
    "words = ['123', 'All the Best', '']\n",
    "print(map_len(words))"
   ]
  },
  {
   "cell_type": "markdown",
   "metadata": {},
   "source": [
    "Assignment 4: Q4"
   ]
  },
  {
   "cell_type": "code",
   "execution_count": 8,
   "metadata": {},
   "outputs": [
    {
     "name": "stdout",
     "output_type": "stream",
     "text": [
      "False\n",
      "True\n"
     ]
    }
   ],
   "source": [
    "def chk_char(char):\n",
    "    vowels = 'aeiou'\n",
    "    return char in vowels\n",
    "\n",
    "print(chk_char('f'))\n",
    "print(chk_char('o'))"
   ]
  },
  {
   "cell_type": "code",
   "execution_count": null,
   "metadata": {},
   "outputs": [],
   "source": []
  }
 ],
 "metadata": {
  "kernelspec": {
   "display_name": "Python 3",
   "language": "python",
   "name": "python3"
  },
  "language_info": {
   "codemirror_mode": {
    "name": "ipython",
    "version": 3
   },
   "file_extension": ".py",
   "mimetype": "text/x-python",
   "name": "python",
   "nbconvert_exporter": "python",
   "pygments_lexer": "ipython3",
   "version": "3.7.6"
  }
 },
 "nbformat": 4,
 "nbformat_minor": 4
}
